{
 "cells": [
  {
   "cell_type": "code",
   "execution_count": null,
   "id": "f7868fa9-f0d7-4748-9f8f-09d29cc201c5",
   "metadata": {},
   "outputs": [],
   "source": [
    "## pip install cryptography\n",
    "## pip install pymysql"
   ]
  },
  {
   "cell_type": "code",
   "execution_count": null,
   "id": "cb42ea7f-01a5-4ab1-9c9c-356b2f807b15",
   "metadata": {},
   "outputs": [],
   "source": [
    "import os \n",
    "import pymysql\n",
    "import cryptography "
   ]
  },
  {
   "cell_type": "code",
   "execution_count": null,
   "id": "553352cd-29c3-452b-9a2c-dc5b1b97efbe",
   "metadata": {},
   "outputs": [],
   "source": [
    "PASSWORD = os.getenv(\"MySQL_PASSWORD\")"
   ]
  },
  {
   "cell_type": "code",
   "execution_count": null,
   "id": "cb1d3b4b-1871-4ac3-adbc-e5b25225e4a4",
   "metadata": {},
   "outputs": [],
   "source": [
    "## To Connect MySQL with Python \n",
    "database = pymysql.connect(\n",
    "    host = \"localhost\",\n",
    "    port = 3306,\n",
    "    user = \"root\",\n",
    "    password = PASSWORD\n",
    ")\n",
    "mycursor = database.cursor()"
   ]
  },
  {
   "cell_type": "code",
   "execution_count": null,
   "id": "c22c210c-bc6f-461f-95c0-c0df59edfb7d",
   "metadata": {},
   "outputs": [],
   "source": [
    "mycursor.execute(\"show databases\")\n",
    "for i in mycursor:\n",
    "    print(i)"
   ]
  },
  {
   "cell_type": "code",
   "execution_count": null,
   "id": "1550adde-0bbf-43c2-abf8-e4d6493bdedd",
   "metadata": {},
   "outputs": [],
   "source": [
    "mycursor.execute(\"create database portal\")\n",
    "mycursor.execute(\"show databases\")\n",
    "for i in mycursor:\n",
    "    print(i)"
   ]
  },
  {
   "cell_type": "code",
   "execution_count": null,
   "id": "d3e22376-ecec-4999-acfe-2e9c6e208b6e",
   "metadata": {},
   "outputs": [],
   "source": [
    "mycursor.execute(\"use portal\")\n",
    "mycursor.execute(\"\"\"\n",
    "create table records\n",
    "(\n",
    "     Emply_id int primary key not null,\n",
    "     Full_names varchar(25) not null,\n",
    "     Age int not null, \n",
    "     Gender enum(\"Male\", \"Female\"),\n",
    "     e_mail text not null,\n",
    "     Occupation varchar(30) not null,\n",
    "     Marrital_status varchar(20) not null, \n",
    "     Religon varchar(15) not null\n",
    ")\"\"\")"
   ]
  },
  {
   "cell_type": "code",
   "execution_count": null,
   "id": "2ab79c87-ad5a-4c3a-85c9-c6188cb7e905",
   "metadata": {},
   "outputs": [],
   "source": [
    "mycursor.execute(\"show tables in portal\")\n",
    "for i in mycursor:\n",
    "    print(i)"
   ]
  },
  {
   "cell_type": "code",
   "execution_count": null,
   "id": "5bc8303a-40ef-4b48-bade-ac9531d06b6e",
   "metadata": {},
   "outputs": [],
   "source": [
    "mycursor.execute(\"use portal\")\n",
    "mycursor.execute(\"show columns in records\")\n",
    "for i in mycursor:\n",
    "    print(i)"
   ]
  },
  {
   "cell_type": "code",
   "execution_count": 25,
   "id": "b88fe078-49a5-4949-b565-d42ccb7faad2",
   "metadata": {},
   "outputs": [
    {
     "name": "stdout",
     "output_type": "stream",
     "text": [
      "\n",
      " Welcome EarlyCode Co-operative Society \n",
      "1 << Register\n",
      "2 << Search\n",
      "3 << Update\n",
      "4 << Delete\n",
      "5 << Display\n",
      "6 << Logout\n"
     ]
    },
    {
     "name": "stdin",
     "output_type": "stream",
     "text": [
      "Select an option:  2\n"
     ]
    },
    {
     "name": "stdout",
     "output_type": "stream",
     "text": [
      "Search selection\n"
     ]
    },
    {
     "name": "stdin",
     "output_type": "stream",
     "text": [
      "Enter your employee number(001):  001\n"
     ]
    },
    {
     "name": "stdout",
     "output_type": "stream",
     "text": [
      "(1, 'James Dennis', 45, 'Male', 'jamesdennis12@gmail.com', 'Civil Servant ', 'Married', 'Christain')\n",
      "\n",
      " Welcome EarlyCode Co-operative Society \n",
      "1 << Register\n",
      "2 << Search\n",
      "3 << Update\n",
      "4 << Delete\n",
      "5 << Display\n",
      "6 << Logout\n"
     ]
    },
    {
     "name": "stdin",
     "output_type": "stream",
     "text": [
      "Select an option:  1\n"
     ]
    },
    {
     "name": "stdout",
     "output_type": "stream",
     "text": [
      "\n",
      " Registration Selection :\n"
     ]
    },
    {
     "name": "stdin",
     "output_type": "stream",
     "text": [
      "Enter your employee number(001):  002\n",
      "Enter your full names:  Joshua Benson \n",
      "Enter your age:  38\n",
      "Enter your Gender:  Male\n",
      "Enter your e_mail address:  joshuabenson01@gmail.com\n",
      "Enter your Occupation:  Business Man \n",
      "Enter Your marrital status:  Married \n",
      "Enter your religion:  Christain\n"
     ]
    },
    {
     "name": "stdout",
     "output_type": "stream",
     "text": [
      "Registration SuccessFul..\n",
      "\n",
      " Welcome EarlyCode Co-operative Society \n",
      "1 << Register\n",
      "2 << Search\n",
      "3 << Update\n",
      "4 << Delete\n",
      "5 << Display\n",
      "6 << Logout\n"
     ]
    },
    {
     "name": "stdin",
     "output_type": "stream",
     "text": [
      "Select an option:  2\n"
     ]
    },
    {
     "name": "stdout",
     "output_type": "stream",
     "text": [
      "Search selection\n"
     ]
    },
    {
     "name": "stdin",
     "output_type": "stream",
     "text": [
      "Enter your employee number(001):  002\n"
     ]
    },
    {
     "name": "stdout",
     "output_type": "stream",
     "text": [
      "(2, 'Joshua Benson ', 38, 'Male', 'joshuabenson01@gmail.com', 'Business Man ', 'Married ', 'Christain')\n",
      "\n",
      " Welcome EarlyCode Co-operative Society \n",
      "1 << Register\n",
      "2 << Search\n",
      "3 << Update\n",
      "4 << Delete\n",
      "5 << Display\n",
      "6 << Logout\n"
     ]
    },
    {
     "name": "stdin",
     "output_type": "stream",
     "text": [
      "Select an option:  5\n"
     ]
    },
    {
     "name": "stdout",
     "output_type": "stream",
     "text": [
      "\n",
      "Display Selection\n",
      "(1, 'James Dennis', 45, 'Male', 'jamesdennis12@gmail.com', 'Civil Servant ', 'Married', 'Christain')\n",
      "(2, 'Joshua Benson ', 38, 'Male', 'joshuabenson01@gmail.com', 'Business Man ', 'Married ', 'Christain')\n",
      "\n",
      " Welcome EarlyCode Co-operative Society \n",
      "1 << Register\n",
      "2 << Search\n",
      "3 << Update\n",
      "4 << Delete\n",
      "5 << Display\n",
      "6 << Logout\n"
     ]
    },
    {
     "name": "stdin",
     "output_type": "stream",
     "text": [
      "Select an option:  6\n"
     ]
    },
    {
     "name": "stdout",
     "output_type": "stream",
     "text": [
      "Thank you for using this app\n"
     ]
    }
   ],
   "source": [
    "mycursor.execute(\"use portal\")\n",
    "def Register():\n",
    "    print(\"\\n Registration Selection :\")\n",
    "    Emply_id = int(input(\"Enter your employee number(001): \"))\n",
    "    Full_names = input(\"Enter your full names: \")\n",
    "    Age = int(input(\"Enter your age: \"))\n",
    "    Gender = input(\"Enter your Gender: \")\n",
    "    e_mail = input(\"Enter your e_mail address: \")\n",
    "    Occupation = input(\"Enter your Occupation: \")\n",
    "    Marrital_status = input(\"Enter Your marrital status: \")\n",
    "    Religon = input(\"Enter your religion: \")\n",
    "\n",
    "    query =\"insert into Records(Emply_id, Full_names, Age, Gender, e_mail, Occupation, Marrital_status, Religon) values (%s, %s, %s, %s, %s, %s, %s, %s)\"\n",
    "    mycursor.execute(query,(Emply_id, Full_names, Age, Gender, e_mail, Occupation, Marrital_status, Religon))\n",
    "    database.commit()\n",
    "    print(\"Registration SuccessFul..\")\n",
    "\n",
    "def Search():\n",
    "    print(\"Search selection\")\n",
    "    Emply_id = int(input(\"Enter your employee number(001): \"))\n",
    "    query = \"select * from Records where Emply_id = %s\"\n",
    "    mycursor.execute(query, Emply_id)\n",
    "    result = mycursor.fetchall()\n",
    "    if len(result) == 0:\n",
    "        print(\"Records not Found..\")\n",
    "    else:\n",
    "        for i in result:\n",
    "            print(i)\n",
    "def Update():\n",
    "    print(\"\\nUpdate Selection\")\n",
    "    Emply_id = int(input(\"Enter your employee number(001): \"))\n",
    "    Full_names = input(\"Enter your full names: \")\n",
    "    Age = int(input(\"Enter your age: \"))\n",
    "    Gender = input(\"Enter your Gender: \")\n",
    "    e_mail = input(\"Enter your e_mail address: \")\n",
    "    Occupation = input(\"Enter your Occupation: \")\n",
    "    Marrital_status = input(\"Enter Your marrital status: \")\n",
    "    Religon = input(\"Enter your religion: \")\n",
    "\n",
    "    query = \"Update Records(Full_names = %s , Age = %s, Gender = %s, e_mail =%s, Occupation = %s, Marrital_status =%s, Religon = %s) where Emply_id = %s\"\n",
    "    mycursor.execute(query(Emply_id, Full_names, Age, Gender, e_mail, Occupation, Marrital_status, Religon))\n",
    "    database.commit()\n",
    "    print(\"Update was Successfull..\")\n",
    "\n",
    "def Delete():\n",
    "    print(\"\\nDelete selection \")\n",
    "    Emply_id = int(input(\"Enter your employee number(001): \"))\n",
    "    query = \"delete from Records where Emply_id = %s\"\n",
    "    mycursor.execute(query, Emply_id)\n",
    "    print(\"Record was successFully deleted\")\n",
    "\n",
    "def Display():\n",
    "    print(\"\\nDisplay Selection\")\n",
    "    query = \"select * from Records \"\n",
    "    mycursor.execute(query)\n",
    "    for i in  mycursor:\n",
    "        print(i)\n",
    "\n",
    "def main():\n",
    "    while True:\n",
    "        print(\"\\n Welcome EarlyCode Co-operative Society \")\n",
    "        print(\"1 << Register\")\n",
    "        print(\"2 << Search\")\n",
    "        print(\"3 << Update\")\n",
    "        print(\"4 << Delete\")\n",
    "        print(\"5 << Display\")\n",
    "        print(\"6 << Logout\")\n",
    "        option = input(\"Select an option: \")\n",
    "    \n",
    "        if option == \"1\":\n",
    "            Register()\n",
    "        elif option == \"2\":\n",
    "            Search()\n",
    "        elif option == \"3\":\n",
    "            Update()\n",
    "        elif option == \"4\":\n",
    "            Delete()\n",
    "        elif option == \"5\":\n",
    "            Display()\n",
    "        elif option == \"6\":\n",
    "            print(\"Thank you for using this app\")\n",
    "            break\n",
    "        else: \n",
    "            print(\"Invaid Option. try again\")\n",
    "if __name__ ==\"__main__\":\n",
    "    main()"
   ]
  },
  {
   "cell_type": "code",
   "execution_count": null,
   "id": "32030f5e-56f6-4128-9902-426763f99361",
   "metadata": {},
   "outputs": [],
   "source": []
  },
  {
   "cell_type": "code",
   "execution_count": null,
   "id": "d3b1989c-a875-4826-947d-9fe04fc3a84c",
   "metadata": {},
   "outputs": [],
   "source": []
  }
 ],
 "metadata": {
  "kernelspec": {
   "display_name": "Python [conda env:base] *",
   "language": "python",
   "name": "conda-base-py"
  },
  "language_info": {
   "codemirror_mode": {
    "name": "ipython",
    "version": 3
   },
   "file_extension": ".py",
   "mimetype": "text/x-python",
   "name": "python",
   "nbconvert_exporter": "python",
   "pygments_lexer": "ipython3",
   "version": "3.12.7"
  }
 },
 "nbformat": 4,
 "nbformat_minor": 5
}
